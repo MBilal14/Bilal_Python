{
 "cells": [
  {
   "cell_type": "markdown",
   "id": "5f791162",
   "metadata": {},
   "source": [
    "### 📚 Import Required Libraries"
   ]
  },
  {
   "cell_type": "code",
   "execution_count": null,
   "id": "0698c6fc",
   "metadata": {},
   "outputs": [],
   "source": [
    "# 📚 Import necessary libraries\n",
    "import pandas as pd\n",
    "import matplotlib.pyplot as plt\n",
    "import seaborn as sns\n",
    "\n",
    "# 🔧 Scikit-learn modules for model building\n",
    "from sklearn.model_selection import train_test_split\n",
    "from sklearn.preprocessing import LabelEncoder\n",
    "from sklearn.tree import DecisionTreeClassifier\n",
    "from sklearn.metrics import classification_report, confusion_matrix, accuracy_score\n"
   ]
  },
  {
   "cell_type": "markdown",
   "id": "f19d16e4",
   "metadata": {},
   "source": [
    "### 📥 Step 1: Load the dataset"
   ]
  },
  {
   "cell_type": "code",
   "execution_count": null,
   "id": "294a135c",
   "metadata": {},
   "outputs": [
    {
     "data": {
      "text/html": [
       "<div>\n",
       "<style scoped>\n",
       "    .dataframe tbody tr th:only-of-type {\n",
       "        vertical-align: middle;\n",
       "    }\n",
       "\n",
       "    .dataframe tbody tr th {\n",
       "        vertical-align: top;\n",
       "    }\n",
       "\n",
       "    .dataframe thead th {\n",
       "        text-align: right;\n",
       "    }\n",
       "</style>\n",
       "<table border=\"1\" class=\"dataframe\">\n",
       "  <thead>\n",
       "    <tr style=\"text-align: right;\">\n",
       "      <th></th>\n",
       "      <th>Age</th>\n",
       "      <th>Sex</th>\n",
       "      <th>BP</th>\n",
       "      <th>Cholesterol</th>\n",
       "      <th>Na_to_K</th>\n",
       "      <th>Drug</th>\n",
       "    </tr>\n",
       "  </thead>\n",
       "  <tbody>\n",
       "    <tr>\n",
       "      <th>0</th>\n",
       "      <td>23</td>\n",
       "      <td>F</td>\n",
       "      <td>HIGH</td>\n",
       "      <td>HIGH</td>\n",
       "      <td>25.355</td>\n",
       "      <td>drugY</td>\n",
       "    </tr>\n",
       "    <tr>\n",
       "      <th>1</th>\n",
       "      <td>47</td>\n",
       "      <td>M</td>\n",
       "      <td>LOW</td>\n",
       "      <td>HIGH</td>\n",
       "      <td>13.093</td>\n",
       "      <td>drugC</td>\n",
       "    </tr>\n",
       "    <tr>\n",
       "      <th>2</th>\n",
       "      <td>47</td>\n",
       "      <td>M</td>\n",
       "      <td>LOW</td>\n",
       "      <td>HIGH</td>\n",
       "      <td>10.114</td>\n",
       "      <td>drugC</td>\n",
       "    </tr>\n",
       "    <tr>\n",
       "      <th>3</th>\n",
       "      <td>28</td>\n",
       "      <td>F</td>\n",
       "      <td>NORMAL</td>\n",
       "      <td>HIGH</td>\n",
       "      <td>7.798</td>\n",
       "      <td>drugX</td>\n",
       "    </tr>\n",
       "    <tr>\n",
       "      <th>4</th>\n",
       "      <td>61</td>\n",
       "      <td>F</td>\n",
       "      <td>LOW</td>\n",
       "      <td>HIGH</td>\n",
       "      <td>18.043</td>\n",
       "      <td>drugY</td>\n",
       "    </tr>\n",
       "    <tr>\n",
       "      <th>...</th>\n",
       "      <td>...</td>\n",
       "      <td>...</td>\n",
       "      <td>...</td>\n",
       "      <td>...</td>\n",
       "      <td>...</td>\n",
       "      <td>...</td>\n",
       "    </tr>\n",
       "    <tr>\n",
       "      <th>195</th>\n",
       "      <td>56</td>\n",
       "      <td>F</td>\n",
       "      <td>LOW</td>\n",
       "      <td>HIGH</td>\n",
       "      <td>11.567</td>\n",
       "      <td>drugC</td>\n",
       "    </tr>\n",
       "    <tr>\n",
       "      <th>196</th>\n",
       "      <td>16</td>\n",
       "      <td>M</td>\n",
       "      <td>LOW</td>\n",
       "      <td>HIGH</td>\n",
       "      <td>12.006</td>\n",
       "      <td>drugC</td>\n",
       "    </tr>\n",
       "    <tr>\n",
       "      <th>197</th>\n",
       "      <td>52</td>\n",
       "      <td>M</td>\n",
       "      <td>NORMAL</td>\n",
       "      <td>HIGH</td>\n",
       "      <td>9.894</td>\n",
       "      <td>drugX</td>\n",
       "    </tr>\n",
       "    <tr>\n",
       "      <th>198</th>\n",
       "      <td>23</td>\n",
       "      <td>M</td>\n",
       "      <td>NORMAL</td>\n",
       "      <td>NORMAL</td>\n",
       "      <td>14.020</td>\n",
       "      <td>drugX</td>\n",
       "    </tr>\n",
       "    <tr>\n",
       "      <th>199</th>\n",
       "      <td>40</td>\n",
       "      <td>F</td>\n",
       "      <td>LOW</td>\n",
       "      <td>NORMAL</td>\n",
       "      <td>11.349</td>\n",
       "      <td>drugX</td>\n",
       "    </tr>\n",
       "  </tbody>\n",
       "</table>\n",
       "<p>200 rows × 6 columns</p>\n",
       "</div>"
      ],
      "text/plain": [
       "     Age Sex      BP Cholesterol  Na_to_K   Drug\n",
       "0     23   F    HIGH        HIGH   25.355  drugY\n",
       "1     47   M     LOW        HIGH   13.093  drugC\n",
       "2     47   M     LOW        HIGH   10.114  drugC\n",
       "3     28   F  NORMAL        HIGH    7.798  drugX\n",
       "4     61   F     LOW        HIGH   18.043  drugY\n",
       "..   ...  ..     ...         ...      ...    ...\n",
       "195   56   F     LOW        HIGH   11.567  drugC\n",
       "196   16   M     LOW        HIGH   12.006  drugC\n",
       "197   52   M  NORMAL        HIGH    9.894  drugX\n",
       "198   23   M  NORMAL      NORMAL   14.020  drugX\n",
       "199   40   F     LOW      NORMAL   11.349  drugX\n",
       "\n",
       "[200 rows x 6 columns]"
      ]
     },
     "execution_count": 68,
     "metadata": {},
     "output_type": "execute_result"
    }
   ],
   "source": [
    "\n",
    "df = pd.read_csv(\"drug.csv\")  # Make sure 'drug.csv' is in your working directory\n",
    "df                           # Displays the DataFrame (useful in Jupyter Notebook)"
   ]
  },
  {
   "cell_type": "markdown",
   "id": "9acbef74",
   "metadata": {},
   "source": [
    "### 🧩 Step 2: Encode Categorical Features Using LabelEncoder\n"
   ]
  },
  {
   "cell_type": "code",
   "execution_count": 69,
   "id": "c079e78a",
   "metadata": {},
   "outputs": [],
   "source": [
    "# 🔤 Initialize LabelEncoder\n",
    "le = LabelEncoder()\n",
    "\n",
    "# 🔁 Loop through each categorical column and apply Label Encoding\n",
    "for col in ['Sex', 'BP', 'Cholesterol', 'Drug']:\n",
    "    df[col] = le.fit_transform(df[col])"
   ]
  },
  {
   "cell_type": "markdown",
   "id": "540439cf",
   "metadata": {},
   "source": [
    "### ✂️ Step 3: Separate Features and Target Variable\n",
    "### 🎯 Define X as input features and y as the target label (Drug)"
   ]
  },
  {
   "cell_type": "code",
   "execution_count": null,
   "id": "a6abc715",
   "metadata": {},
   "outputs": [],
   "source": [
    "# 🎯 Input features (all columns except 'Drug')\n",
    "X = df.drop(\"Drug\", axis=1)\n",
    "\n",
    "# 🎯 Target variable (what we want to predict)\n",
    "y = df[\"Drug\"]"
   ]
  },
  {
   "cell_type": "markdown",
   "id": "c4bb41c3",
   "metadata": {},
   "source": [
    "### 🧪 Step 4: Split the Dataset into Training and Testing Sets\n",
    "##### 📚 80% data for training the model, 20% for testing performance"
   ]
  },
  {
   "cell_type": "code",
   "execution_count": 70,
   "id": "4085f305",
   "metadata": {},
   "outputs": [],
   "source": [
    "# 🧪 Split the dataset into training and testing sets\n",
    "X_train, X_test, y_train, y_test = train_test_split(\n",
    "    X, y,              # Features and target\n",
    "    test_size=0.2,     # 20% data for testing\n",
    "    random_state=42    # For reproducibility\n",
    ")"
   ]
  },
  {
   "cell_type": "markdown",
   "id": "6c857ad4",
   "metadata": {},
   "source": [
    "### 🌲 Step 5: Train the Decision Tree Classifier\n",
    "##### 🏗️ Fit the model on the training data and make predictions on test data"
   ]
  },
  {
   "cell_type": "code",
   "execution_count": 71,
   "id": "443abb62",
   "metadata": {},
   "outputs": [],
   "source": [
    "# 🌳 Initialize the Decision Tree Classifier\n",
    "Dt = DecisionTreeClassifier()\n",
    "\n",
    "# 🏋️ Train the model on training data\n",
    "Dt.fit(X_train, y_train)\n",
    "\n",
    "# 🔮 Predict the target values for the test set\n",
    "y_pred = Dt.predict(X_test)\n"
   ]
  },
  {
   "cell_type": "markdown",
   "id": "84564e2a",
   "metadata": {},
   "source": [
    "### 📊 Step 6: Evaluate the Model Performance\n",
    "#### 🧾 Print Accuracy, Confusion Matrix, and Detailed Classification Report"
   ]
  },
  {
   "cell_type": "code",
   "execution_count": 74,
   "id": "85350e4a",
   "metadata": {},
   "outputs": [
    {
     "name": "stdout",
     "output_type": "stream",
     "text": [
      "Classification Report:\n",
      "              precision    recall  f1-score   support\n",
      "\n",
      "           0       1.00      1.00      1.00         6\n",
      "           1       1.00      1.00      1.00         3\n",
      "           2       1.00      1.00      1.00         5\n",
      "           3       1.00      1.00      1.00        11\n",
      "           4       1.00      1.00      1.00        15\n",
      "\n",
      "    accuracy                           1.00        40\n",
      "   macro avg       1.00      1.00      1.00        40\n",
      "weighted avg       1.00      1.00      1.00        40\n",
      "\n",
      "Confusion Matrix:\n",
      "[[ 6  0  0  0  0]\n",
      " [ 0  3  0  0  0]\n",
      " [ 0  0  5  0  0]\n",
      " [ 0  0  0 11  0]\n",
      " [ 0  0  0  0 15]]\n",
      "Accuracy Score:\n",
      "1.0\n"
     ]
    }
   ],
   "source": [
    "\n",
    "# 📋 Print classification report: precision, recall, f1-score\n",
    "print(\"Classification Report:\")\n",
    "print(classification_report(y_test, y_pred))\n",
    "\n",
    "# 🔍 Print confusion matrix: shows actual vs predicted class breakdown\n",
    "print(\"Confusion Matrix:\")\n",
    "print(confusion_matrix(y_test, y_pred))\n",
    "\n",
    "# ✅ Print overall accuracy of the model\n",
    "print(\"Accuracy Score:\")\n",
    "print(accuracy_score(y_test, y_pred))\n",
    "\n"
   ]
  },
  {
   "cell_type": "markdown",
   "id": "6691379e",
   "metadata": {},
   "source": [
    "### 📊 Step 7: Visualize the Confusion Matrix\n",
    "\n"
   ]
  },
  {
   "cell_type": "code",
   "execution_count": 75,
   "id": "19dbc361",
   "metadata": {},
   "outputs": [
    {
     "data": {
      "image/png": "[encoded data removed]",
      "text/plain": [
       "<Figure size 1200x800 with 2 Axes>"
      ]
     },
     "metadata": {},
     "output_type": "display_data"
    }
   ],
   "source": [
    "# ✅ Create a proper-sized figure\n",
    "plt.figure(figsize=(12, 8))\n",
    "\n",
    "# 🔄 Plot confusion matrix heatmap (correct label order: y_test, y_pred)\n",
    "sns.heatmap(confusion_matrix(y_test, y_pred), annot=True, fmt='d', cmap='Blues')\n",
    "\n",
    "# 🏷️ Add titles and axis labels\n",
    "plt.title(\"Confusion Matrix\")\n",
    "plt.xlabel(\"Predicted Labels\")\n",
    "plt.ylabel(\"True Labels\")\n",
    "\n",
    "# 👁️ Show the plot\n",
    "plt.show()"
   ]
  }
 ],
 "metadata": {
  "kernelspec": {
   "display_name": "Python 3",
   "language": "python",
   "name": "python3"
  },
  "language_info": {
   "codemirror_mode": {
    "name": "ipython",
    "version": 3
   },
   "file_extension": ".py",
   "mimetype": "text/x-python",
   "name": "python",
   "nbconvert_exporter": "python",
   "pygments_lexer": "ipython3",
   "version": "3.11.0"
  }
 },
 "nbformat": 4,
 "nbformat_minor": 5
}
