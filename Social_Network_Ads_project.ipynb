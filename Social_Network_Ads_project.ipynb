{
 "cells": [
  {
   "cell_type": "markdown",
   "id": "8f42a0eb",
   "metadata": {},
   "source": [
    "### 🧰 Import Required Libraries"
   ]
  },
  {
   "cell_type": "code",
   "execution_count": 25,
   "id": "3c2763fe",
   "metadata": {},
   "outputs": [],
   "source": [
    "# 📊 Data manipulation and analysis\n",
    "import pandas as pd\n",
    "\n",
    "# 📈 Data visualization\n",
    "import seaborn as sns\n",
    "import matplotlib.pyplot as plt\n",
    "\n",
    "# 🧪 Splitting data into training and test sets\n",
    "from sklearn.model_selection import train_test_split\n",
    "\n",
    "# 🌲 Machine Learning model - Random Forest\n",
    "from sklearn.ensemble import RandomForestClassifier\n",
    "\n",
    "# ✅ Evaluation metrics\n",
    "from sklearn.metrics import classification_report, accuracy_score, confusion_matrix\n"
   ]
  },
  {
   "cell_type": "markdown",
   "id": "918d0e56",
   "metadata": {},
   "source": [
    "### 📥 Step 1: Load Dataset from CSV File"
   ]
  },
  {
   "cell_type": "code",
   "execution_count": 26,
   "id": "dbc475ad",
   "metadata": {},
   "outputs": [
    {
     "name": "stdout",
     "output_type": "stream",
     "text": [
      "📄 Preview of the loaded dataset:\n",
      "   Age  EstimatedSalary  Purchased\n",
      "0   19            19000          0\n",
      "1   35            20000          0\n",
      "2   26            43000          0\n",
      "3   27            57000          0\n",
      "4   19            76000          0\n"
     ]
    }
   ],
   "source": [
    "\n",
    "\n",
    "# 📌 Load the dataset into a pandas DataFrame from the CSV file\n",
    "df = pd.read_csv(\"Social_Network_Ads.csv\")\n",
    "\n",
    "# ✅ Display the first few rows to verify successful loading\n",
    "print(\"📄 Preview of the loaded dataset:\")\n",
    "print(df.head())\n"
   ]
  },
  {
   "cell_type": "markdown",
   "id": "fd4c5067",
   "metadata": {},
   "source": [
    "### 🧼 Checking for Missing Values in the Dataset"
   ]
  },
  {
   "cell_type": "code",
   "execution_count": 27,
   "id": "7097b52a",
   "metadata": {},
   "outputs": [
    {
     "name": "stdout",
     "output_type": "stream",
     "text": [
      "🔍 Missing Values in Each Column:\n",
      "     Age  EstimatedSalary  Purchased\n",
      "0     19            19000          0\n",
      "1     35            20000          0\n",
      "2     26            43000          0\n",
      "3     27            57000          0\n",
      "4     19            76000          0\n",
      "..   ...              ...        ...\n",
      "395   46            41000          1\n",
      "396   51            23000          1\n",
      "397   50            20000          1\n",
      "398   36            33000          0\n",
      "399   49            36000          1\n",
      "\n",
      "[400 rows x 3 columns]\n"
     ]
    }
   ],
   "source": [
    "# 📌 Check for null (missing) values in each column of the DataFrame\n",
    "df.isnull().sum()\n",
    "\n",
    "# 🖨️ Print the number of missing values per column\n",
    "print(\"🔍 Missing Values in Each Column:\")\n",
    "print(df)\n"
   ]
  },
  {
   "cell_type": "markdown",
   "id": "664deeb5",
   "metadata": {},
   "source": [
    "### 🧾 What df.info() Shows:"
   ]
  },
  {
   "cell_type": "code",
   "execution_count": 28,
   "id": "e2584219",
   "metadata": {},
   "outputs": [
    {
     "name": "stdout",
     "output_type": "stream",
     "text": [
      "<class 'pandas.core.frame.DataFrame'>\n",
      "RangeIndex: 400 entries, 0 to 399\n",
      "Data columns (total 3 columns):\n",
      " #   Column           Non-Null Count  Dtype\n",
      "---  ------           --------------  -----\n",
      " 0   Age              400 non-null    int64\n",
      " 1   EstimatedSalary  400 non-null    int64\n",
      " 2   Purchased        400 non-null    int64\n",
      "dtypes: int64(3)\n",
      "memory usage: 9.5 KB\n"
     ]
    }
   ],
   "source": [
    "df.info()"
   ]
  },
  {
   "cell_type": "markdown",
   "id": "0f636109",
   "metadata": {},
   "source": [
    "### 📦 Splitting Features and Target"
   ]
  },
  {
   "cell_type": "code",
   "execution_count": 29,
   "id": "2d07d306",
   "metadata": {},
   "outputs": [],
   "source": [
    "# 📌 Separate features (X) and target label (y)\n",
    "X = df.drop(\"Purchased\", axis=1)  # Drop the target column to get the input features\n",
    "y = df[\"Purchased\"]               # Extract the target column\n"
   ]
  },
  {
   "cell_type": "markdown",
   "id": "91332ba9",
   "metadata": {},
   "source": [
    "### ✂️ Splitting Data into Training and Testing Sets 🧪\n"
   ]
  },
  {
   "cell_type": "code",
   "execution_count": 30,
   "id": "87c9e93b",
   "metadata": {},
   "outputs": [],
   "source": [
    "X_train, X_test, y_train, y_test = train_test_split(X, y, test_size=0.2, random_state=42) \n",
    "# Splitting the data: 80% for training (X_train, y_train) and 20% for testing (X_test, y_test)\n",
    "# 'random_state=42' ensures reproducibility of the split"
   ]
  },
  {
   "cell_type": "markdown",
   "id": "a1402a1a",
   "metadata": {},
   "source": [
    "### 🌲 Random Forest Classifier: Training & Prediction"
   ]
  },
  {
   "cell_type": "code",
   "execution_count": 31,
   "id": "2b44e8e0",
   "metadata": {},
   "outputs": [],
   "source": [
    "\n",
    "# 📌 Step 1: Initialize the model\n",
    "model = RandomForestClassifier()\n",
    "\n",
    "# 📌 Step 2: Fit the model on training data\n",
    "model.fit(X_train, y_train)  # Don't overwrite X_train\n",
    "\n",
    "# 📌 Step 3: Predict on test data\n",
    "y_pred = model.predict(X_test)"
   ]
  },
  {
   "cell_type": "markdown",
   "id": "d9f47c23",
   "metadata": {},
   "source": [
    "### ✅ Evaluating Classification Model Performance"
   ]
  },
  {
   "cell_type": "code",
   "execution_count": 32,
   "id": "4eb20fa6",
   "metadata": {},
   "outputs": [
    {
     "name": "stdout",
     "output_type": "stream",
     "text": [
      "📊 Classification Report:\n",
      "              precision    recall  f1-score   support\n",
      "\n",
      "           0       0.96      0.88      0.92        52\n",
      "           1       0.81      0.93      0.87        28\n",
      "\n",
      "    accuracy                           0.90        80\n",
      "   macro avg       0.89      0.91      0.89        80\n",
      "weighted avg       0.91      0.90      0.90        80\n",
      "\n",
      "✅ Accuracy Score:\n",
      "0.9\n",
      "🧮 Confusion Matrix:\n",
      "[[46  6]\n",
      " [ 2 26]]\n"
     ]
    }
   ],
   "source": [
    "from sklearn.metrics import classification_report, accuracy_score, confusion_matrix\n",
    "\n",
    "# 📌 Print detailed metrics: precision, recall, f1-score, support\n",
    "print(\"📊 Classification Report:\")\n",
    "print(classification_report(y_test, y_pred))\n",
    "\n",
    "# 📌 Print overall accuracy of the model\n",
    "print(\"✅ Accuracy Score:\")\n",
    "print(accuracy_score(y_test, y_pred))\n",
    "\n",
    "# 📌 Print confusion matrix to understand TP, TN, FP, FN\n",
    "print(\"🧮 Confusion Matrix:\")\n",
    "print(confusion_matrix(y_test, y_pred))\n"
   ]
  },
  {
   "cell_type": "markdown",
   "id": "3c2bd0cf",
   "metadata": {},
   "source": [
    "### 📊 Visualizing Model Performance: Confusion Matrix 📈\n"
   ]
  },
  {
   "cell_type": "code",
   "execution_count": 33,
   "id": "32da6449",
   "metadata": {},
   "outputs": [
    {
     "data": {
      "image/png": "[encoded data removed]",
      "text/plain": [
       "<Figure size 640x480 with 2 Axes>"
      ]
     },
     "metadata": {},
     "output_type": "display_data"
    }
   ],
   "source": [
    "\n",
    "plt.Figure(figsize=(12,8)) # Setting up a figure with a specified size for the plot\n",
    "sns.heatmap(confusion_matrix(y_pred,y_test), annot=True, fmt='d', cmap='magma') \n",
    "\n",
    "# Adding labels and title for better interpretation 🏷️\n",
    "plt.title('Confusion Matrix for Random forest Model', fontsize=16) # Title of the plot\n",
    "plt.xlabel('True Labels', fontsize=12) # Label for the X-axis\n",
    "plt.ylabel('Predicted Labels', fontsize=12) # Label for the Y-axis\n",
    "\n",
    "plt.show() # Display the plot (it's good practice to include this when creating plots)"
   ]
  }
 ],
 "metadata": {
  "kernelspec": {
   "display_name": "Python 3",
   "language": "python",
   "name": "python3"
  },
  "language_info": {
   "codemirror_mode": {
    "name": "ipython",
    "version": 3
   },
   "file_extension": ".py",
   "mimetype": "text/x-python",
   "name": "python",
   "nbconvert_exporter": "python",
   "pygments_lexer": "ipython3",
   "version": "3.11.0"
  }
 },
 "nbformat": 4,
 "nbformat_minor": 5
}
