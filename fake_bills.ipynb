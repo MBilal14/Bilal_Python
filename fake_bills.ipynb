{
 "cells": [
  {
   "cell_type": "markdown",
   "id": "fe4f575b",
   "metadata": {},
   "source": [
    "### 📚 Essential Libraries for Machine Learning 🚀\n"
   ]
  },
  {
   "cell_type": "code",
   "execution_count": null,
   "id": "51fd19a9",
   "metadata": {},
   "outputs": [],
   "source": [
    "\n",
    "# Data Manipulation & Analysis 📊\n",
    "import pandas as pd # Used for creating and manipulating dataframes\n",
    "import seaborn as sns # For enhanced data visualization\n",
    "import matplotlib.pyplot as plt # Core library for plotting\n",
    "\n",
    "# Machine Learning - Model Building & Evaluation 🤖\n",
    "from sklearn.model_selection import train_test_split # To split data into training and testing sets\n",
    "from sklearn.neighbors import KNeighborsClassifier # K-Nearest Neighbors classification algorithm\n",
    "from sklearn.metrics import classification_report,accuracy_score,confusion_matrix # Metrics for model evaluation\n",
    "\n",
    "# Data Preprocessing & Cleaning 🧹\n",
    "from sklearn.preprocessing import StandardScaler,LabelEncoder # For feature scaling and encoding categorical variables\n",
    "from sklearn.impute import KNNImputer # For imputing missing values using KNN"
   ]
  },
  {
   "cell_type": "markdown",
   "id": "f487b399",
   "metadata": {},
   "source": [
    "### 📂 Loading the Dataset 📥\n"
   ]
  },
  {
   "cell_type": "code",
   "execution_count": null,
   "id": "b6bf802a",
   "metadata": {},
   "outputs": [],
   "source": [
    "df = pd.read_csv(\"fake_bills_corrected.csv\") # Loading the dataset into a pandas DataFrame"
   ]
  },
  {
   "cell_type": "markdown",
   "id": "dbb3713d",
   "metadata": {},
   "source": [
    "### 🏷️ Encoding Categorical Variables 🔄\n"
   ]
  },
  {
   "cell_type": "code",
   "execution_count": null,
   "id": "0e151215",
   "metadata": {},
   "outputs": [],
   "source": [
    "\n",
    "le = LabelEncoder() # Initializing the LabelEncoder\n",
    "df[\"is_genuine\"] = le.fit_transform(df[\"is_genuine\"]) # Converting 'is_genuine' column from categorical to numerical (0s and 1s)"
   ]
  },
  {
   "cell_type": "markdown",
   "id": "286a1c05",
   "metadata": {},
   "source": [
    "### 🎯 Separating Features (X) and Target (y) Variables 🏹\n"
   ]
  },
  {
   "cell_type": "code",
   "execution_count": 319,
   "id": "366f7235",
   "metadata": {},
   "outputs": [],
   "source": [
    "X = df.drop(\"is_genuine\", axis=1) # Features: Dropping the 'is_genuine' column from the DataFrame\n",
    "y = df[\"is_genuine\"] # Target: Selecting the 'is_genuine' column as the target variable"
   ]
  },
  {
   "cell_type": "markdown",
   "id": "0448be16",
   "metadata": {},
   "source": [
    "\n",
    "### ✂️ Splitting Data into Training and Testing Sets 🧪\n"
   ]
  },
  {
   "cell_type": "code",
   "execution_count": 320,
   "id": "f9811fd9",
   "metadata": {},
   "outputs": [],
   "source": [
    "X_train, X_test, y_train, y_test = train_test_split(X, y, test_size=0.2, random_state=42) \n",
    "# Splitting the data: 80% for training (X_train, y_train) and 20% for testing (X_test, y_test)\n",
    "# 'random_state=42' ensures reproducibility of the split"
   ]
  },
  {
   "cell_type": "markdown",
   "id": "59f129db",
   "metadata": {},
   "source": [
    "### 🔍 Handling Missing Values with KNNImputer 🩹\n"
   ]
  },
  {
   "cell_type": "code",
   "execution_count": null,
   "id": "b41aea55",
   "metadata": {},
   "outputs": [],
   "source": [
    "\n",
    "kn = KNNImputer() # Initializing the KNNImputer\n",
    "X_train_kn = kn.fit_transform(X_train) # Imputing missing values in the training set\n",
    "X_test_kn = kn.transform(X_test) # Imputing missing values in the testing set using the fitted imputer"
   ]
  },
  {
   "cell_type": "markdown",
   "id": "9aa72934",
   "metadata": {},
   "source": [
    "### 🤖 Building and Training the K-Nearest Neighbors Model 🚀\n"
   ]
  },
  {
   "cell_type": "code",
   "execution_count": 321,
   "id": "6abbb320",
   "metadata": {},
   "outputs": [],
   "source": [
    "\n",
    "kn = KNeighborsClassifier() # Initializing the K-Nearest Neighbors classifier\n",
    "model = kn.fit(X_train_kn, y_train) # Training the KNN model using the imputed training data\n",
    "y_pred = model.predict(X_test_kn) # Making predictions on the imputed test set"
   ]
  },
  {
   "cell_type": "markdown",
   "id": "50879966",
   "metadata": {},
   "source": [
    "### 📊 Model Evaluation: Performance Metrics 📈\n"
   ]
  },
  {
   "cell_type": "code",
   "execution_count": 322,
   "id": "2a7cc896",
   "metadata": {},
   "outputs": [
    {
     "name": "stdout",
     "output_type": "stream",
     "text": [
      "              precision    recall  f1-score   support\n",
      "\n",
      "       False       0.96      1.00      0.98       106\n",
      "        True       1.00      0.98      0.99       194\n",
      "\n",
      "    accuracy                           0.99       300\n",
      "   macro avg       0.98      0.99      0.99       300\n",
      "weighted avg       0.99      0.99      0.99       300\n",
      "\n",
      "0.9866666666666667\n"
     ]
    }
   ],
   "source": [
    "\n",
    "print(classification_report(y_pred, y_test)) # Prints a detailed classification report including precision, recall, f1-score, and support\n",
    "print(accuracy_score(y_pred, y_test)) # Prints the overall accuracy of the model"
   ]
  },
  {
   "cell_type": "markdown",
   "id": "5512a1cc",
   "metadata": {},
   "source": [
    "### 📊 Visualizing Model Performance: Confusion Matrix 📈\n"
   ]
  },
  {
   "cell_type": "code",
   "execution_count": 324,
   "id": "0a4bc29b",
   "metadata": {},
   "outputs": [
    {
     "data": {
      "image/png": "[encoded data removed]",
      "text/plain": [
       "<Figure size 640x480 with 2 Axes>"
      ]
     },
     "metadata": {},
     "output_type": "display_data"
    }
   ],
   "source": [
    "\n",
    "plt.Figure(figsize=(12,8)) # Setting up a figure with a specified size for the plot\n",
    "sns.heatmap(confusion_matrix(y_pred,y_test), annot=True, fmt='d', cmap='magma') \n",
    "\n",
    "# Adding labels and title for better interpretation 🏷️\n",
    "plt.title('Confusion Matrix for K-Nearest Neighbors Model', fontsize=16) # Title of the plot\n",
    "plt.xlabel('True Labels', fontsize=12) # Label for the X-axis\n",
    "plt.ylabel('Predicted Labels', fontsize=12) # Label for the Y-axis\n",
    "\n",
    "plt.show() # Display the plot (it's good practice to include this when creating plots)"
   ]
  }
 ],
 "metadata": {
  "kernelspec": {
   "display_name": "Python 3",
   "language": "python",
   "name": "python3"
  },
  "language_info": {
   "codemirror_mode": {
    "name": "ipython",
    "version": 3
   },
   "file_extension": ".py",
   "mimetype": "text/x-python",
   "name": "python",
   "nbconvert_exporter": "python",
   "pygments_lexer": "ipython3",
   "version": "3.11.0"
  }
 },
 "nbformat": 4,
 "nbformat_minor": 5
}
